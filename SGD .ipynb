{
 "cells": [
  {
   "cell_type": "code",
   "execution_count": 1,
   "metadata": {},
   "outputs": [],
   "source": [
    "import numpy as np\n",
    "class Perceptron2(object):\n",
    "    #初始化，设定学习率eta和迭代次数n_iter\n",
    "    def __init__(self,eta=0.01,n_iter=10):\n",
    "        self.eta=eta\n",
    "        self.n_iter=n_iter\n",
    "\n",
    "    #计算实际输出\n",
    "    def net_input(self,x):\n",
    "        return np.dot(x,self.w[1:])+self.w[0]\n",
    "    \n",
    "    #分类\n",
    "    def predict(self, x):\n",
    "\n",
    "        return np.where(self.net_input(x) >= 0.0, 1, -1)\n",
    "    #修正权值\n",
    "    \n",
    "    def _shuffle(self,X,y):\n",
    "    #打乱原来X的顺序，便于随机选取样本进行梯度下降\n",
    "        r=np.random.permutation(len(y))\n",
    "        return X[r],y[r]\n",
    "    \n",
    "    def _initialize(self,m):\n",
    "    #初始化权值，初始化为0，添加增广矩阵\n",
    "        self.w=np.zeros(1+m)\n",
    "    \n",
    "    def _update_w(self,xi,yi):\n",
    "    #更新权值，一次根据一个样本更新\n",
    "        output=self.net_input(xi)\n",
    "        error=(yi-output)\n",
    "        self.w[1:]+=self.eta*xi.dot(error)\n",
    "        self.w[0]+=self.eta*error\n",
    "        cost=0.5*error**2\n",
    "        return cost\n",
    "    def fit(self,X,y):\n",
    "        self._initialize(X.shape[1])\n",
    "        self.cost=[]\n",
    "        for _ in range(self.n_iter):\n",
    "            cost=[]\n",
    "            X,y=self._shuffle(X,y)\n",
    "            for xi,yi in zip(X,y):\n",
    "                cost.append(self._update_w(xi,yi))\n",
    "            avg_cost=sum(cost)/len(y)\n",
    "            self.cost.append(avg_cost)\n",
    "        return self\n",
    "                \n",
    "        "
   ]
  },
  {
   "cell_type": "code",
   "execution_count": 3,
   "metadata": {},
   "outputs": [
    {
     "data": {
      "text/plain": [
       "[<matplotlib.lines.Line2D at 0x8ac3c50>]"
      ]
     },
     "execution_count": 3,
     "metadata": {},
     "output_type": "execute_result"
    },
    {
     "data": {
      "image/png": "[encoded data removed]",
      "text/plain": [
       "<Figure size 432x288 with 1 Axes>"
      ]
     },
     "metadata": {
      "needs_background": "light"
     },
     "output_type": "display_data"
    }
   ],
   "source": [
    "import pandas as pd\n",
    "import numpy as np\n",
    "import matplotlib.pyplot as plt\n",
    "import Perceptron as per\n",
    "from matplotlib.colors import ListedColormap\n",
    "from matplotlib.font_manager import FontProperties\n",
    "font=FontProperties(fname=r'C:\\Windows\\Fonts\\simkai.ttf',size=14)\n",
    "\n",
    "#读取待分类数据，取第一，三特征进行分类\n",
    "df=pd.read_csv('https://archive.ics.uci.edu/ml/machine-learning-databases/iris/iris.data',header=None)\n",
    "dfy=df.iloc[0:100,4].values\n",
    "X=df.iloc[0:100,[0,2]].values\n",
    "#print(X)\n",
    "\n",
    "y=np.where(dfy=='Iris-setosa',1,-1)\n",
    "\n",
    "X_std=np.copy(X)\n",
    "X_std[:,0]=(X_std[:,0]-X_std[:,0].mean())/X_std[:,0].std()\n",
    "X_std[:,1]=(X_std[:,1]-X_std[:,1].mean())/X_std[:,1].std()\n",
    "\n",
    "#plt.scatter(X[:50, 0], X[:50, 1],color='red', marker='o', label='setosa')\n",
    "#plt.scatter(X[50:100, 0], X[50:100, 1],color='blue', marker='x', label='versicolor')\n",
    "#plt.xlabel('sepal length')\n",
    "#plt.ylabel('petal length')\n",
    "#plt.legend(loc='upper left')\n",
    "#plt.show()\n",
    "#训练感知器\n",
    "ppn=Perceptron2(eta=0.01,n_iter=20)\n",
    "ppn.fit(X_std,y)\n",
    "plt.plot(range(1,len(ppn.cost)+1),ppn.cost,marker='o')\n"
   ]
  }
 ],
 "metadata": {
  "kernelspec": {
   "display_name": "Python 3",
   "language": "python",
   "name": "python3"
  },
  "language_info": {
   "codemirror_mode": {
    "name": "ipython",
    "version": 3
   },
   "file_extension": ".py",
   "mimetype": "text/x-python",
   "name": "python",
   "nbconvert_exporter": "python",
   "pygments_lexer": "ipython3",
   "version": "3.7.0"
  }
 },
 "nbformat": 4,
 "nbformat_minor": 2
}
