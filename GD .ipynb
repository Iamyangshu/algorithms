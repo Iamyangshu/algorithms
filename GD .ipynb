{
 "cells": [
  {
   "cell_type": "code",
   "execution_count": 24,
   "metadata": {},
   "outputs": [],
   "source": [
    "import numpy as np\n",
    "class Perceptron1(object):\n",
    "    #初始化，设定学习率eta和迭代次数n_iter\n",
    "    def __init__(self,eta=0.01,n_iter=10):\n",
    "        self.eta=eta\n",
    "        self.n_iter=n_iter\n",
    "\n",
    "    #计算实际输出\n",
    "    def net_input(self,x):\n",
    "        return np.dot(x,self.w[1:])+self.w[0]\n",
    "    \n",
    "    #分类\n",
    "    def predict(self, x):\n",
    "\n",
    "        return np.where(self.net_input(x) >= 0.0, 1, -1)\n",
    "    #修正权值\n",
    "    def fit(self,X,y):\n",
    "        #设定初始权值为0\n",
    "        self.w=np.zeros(1+X.shape[1])\n",
    "        self.cost =[]\n",
    "        #更新权值\n",
    "        for _ in range(self.n_iter):\n",
    "            output=self.net_input(X)\n",
    "            dw=(y-output)\n",
    "            #全部样本一次同时修正\n",
    "            self.w[1:]+=self.eta*X.T.dot(dw)\n",
    "            self.w[0]+=self.eta*np.sum(dw)\n",
    "            #损失函数\n",
    "            cost=np.sum(dw**2)/2\n",
    "          \n",
    "            self.cost.append(cost)\n",
    "\n",
    "        return self"
   ]
  },
  {
   "cell_type": "code",
   "execution_count": 37,
   "metadata": {},
   "outputs": [
    {
     "data": {
      "text/plain": [
       "[<matplotlib.lines.Line2D at 0xac356d8>]"
      ]
     },
     "execution_count": 37,
     "metadata": {},
     "output_type": "execute_result"
    },
    {
     "data": {
      "image/png": "[encoded data removed]",
      "text/plain": [
       "<Figure size 432x288 with 1 Axes>"
      ]
     },
     "metadata": {
      "needs_background": "light"
     },
     "output_type": "display_data"
    }
   ],
   "source": [
    "import pandas as pd\n",
    "import numpy as np\n",
    "import matplotlib.pyplot as plt\n",
    "import Perceptron as per\n",
    "from matplotlib.colors import ListedColormap\n",
    "from matplotlib.font_manager import FontProperties\n",
    "font=FontProperties(fname=r'C:\\Windows\\Fonts\\simkai.ttf',size=14)\n",
    "\n",
    "#读取待分类数据，取第一，三特征进行分类\n",
    "df=pd.read_csv('https://archive.ics.uci.edu/ml/machine-learning-databases/iris/iris.data',header=None)\n",
    "dfy=df.iloc[0:100,4].values\n",
    "X=df.iloc[0:100,[0,2]].values\n",
    "#print(X)\n",
    "\n",
    "y=np.where(dfy=='Iris-setosa',1,-1)\n",
    "\n",
    "X_std=np.copy(X)\n",
    "X_std[:,0]=(X_std[:,0]-X_std[:,0].mean())/X_std[:,0].std()\n",
    "X_std[:,1]=(X_std[:,1]-X_std[:,1].mean())/X_std[:,1].std()\n",
    "\n",
    "#plt.scatter(X[:50, 0], X[:50, 1],color='red', marker='o', label='setosa')\n",
    "#plt.scatter(X[50:100, 0], X[50:100, 1],color='blue', marker='x', label='versicolor')\n",
    "#plt.xlabel('sepal length')\n",
    "#plt.ylabel('petal length')\n",
    "#plt.legend(loc='upper left')\n",
    "#plt.show()\n",
    "#训练感知器\n",
    "ppn=Perceptron1(eta=0.01,n_iter=20)\n",
    "ppn.fit(X_std,y)\n",
    "plt.plot(range(1,len(ppn.cost)+1),ppn.cost,marker='o')\n"
   ]
  },
  {
   "cell_type": "code",
   "execution_count": 38,
   "metadata": {},
   "outputs": [],
   "source": [
    "def plot_decision_region(X,y,classifer,resolution=0.02):\n",
    "   \n",
    "    \n",
    "    \n",
    "    #找出各个样本的最值，分界面由权重决定，对x1,x2进行放缩并不会影响分界面，但可以使分界面更美观\n",
    "    x1_min,x2_min=X[:,0].min()-1,X[:,1].min()-1\n",
    "    x1_max,x2_max=X[:,0].max()+1,X[:,1].max()+1\n",
    "    #print(x1_min)\n",
    "    #将向量矩阵变为坐标矩阵\n",
    "    xx1,xx2=np.meshgrid(np.arange(x1_min,x1_max,resolution),np.arange(x2_min,x2_max,resolution))\n",
    "    #print(xx1)\n",
    "    #Z是分界决策面所对应的分类决策，+1，-1将其对应于 contourf的等高线绘制高度，进而进行填充，画出分界区域\n",
    "    Z=classifer.predict(np.array([xx1.ravel(),xx2.ravel()]).T)\n",
    "    #高度需要与contourf(x,y,z)的维度相对应\n",
    "    Z=Z.reshape(xx1.shape)\n",
    "    #print(xx1.shape)\n",
    "    #print(Z)\n",
    "    \n",
    "    colors = ('blue', 'red', 'lightgreen', 'gray', 'cyan')\n",
    "    #colors[:len(np.unique(y))]对应于不同类所要选择的颜色，二分类问题会在red,blue内进行选择\n",
    "    cmap = ListedColormap(colors[:len(np.unique(y))])\n",
    "    #其中的alpha参数设置颜色填充的透明度\n",
    "    #plt.contourf(xx1, xx2, Z, alpha=0.5, cmap=cmap)\n",
    "    plt.contour(xx1, xx2, Z, alpha=0.5, cmap=cmap)\n",
    "    #设定所画图形界面\n",
    "    plt.xlim(xx1.min(), xx1.max())\n",
    "    plt.ylim(xx2.min(), xx2.max())\n",
    "    \n",
    "    \n",
    "    markers = ('x', 'o', 's', '^', 'v')\n",
    "    \n",
    "    for idx, cl in enumerate(np.unique(y)):\n",
    "        #用y==1和y==-1来做索引\n",
    "        plt.scatter(x=X[y == cl, 0], y=X[y == cl, 1],\n",
    "        alpha=0.8, c=cmap(idx),\n",
    "        marker=markers[idx], label=cl)\n"
   ]
  },
  {
   "cell_type": "code",
   "execution_count": 40,
   "metadata": {},
   "outputs": [
    {
     "data": {
      "image/png": "[encoded data removed]",
      "text/plain": [
       "<Figure size 432x288 with 1 Axes>"
      ]
     },
     "metadata": {
      "needs_background": "light"
     },
     "output_type": "display_data"
    }
   ],
   "source": [
    "plot_decision_region(X_std, y, classifer=ppn)\n",
    "plt.xlabel('特征1 ',fontproperties=font)\n",
    "plt.ylabel('特征2 ',fontproperties=font)\n",
    "plt.legend(loc='upper right')\n",
    "plt.title('感知器分类实例',fontproperties=font)\n",
    "plt.show()"
   ]
  }
 ],
 "metadata": {
  "kernelspec": {
   "display_name": "Python 3",
   "language": "python",
   "name": "python3"
  },
  "language_info": {
   "codemirror_mode": {
    "name": "ipython",
    "version": 3
   },
   "file_extension": ".py",
   "mimetype": "text/x-python",
   "name": "python",
   "nbconvert_exporter": "python",
   "pygments_lexer": "ipython3",
   "version": "3.7.0"
  }
 },
 "nbformat": 4,
 "nbformat_minor": 2
}
