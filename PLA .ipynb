{
 "cells": [
  {
   "cell_type": "code",
   "execution_count": 11,
   "metadata": {},
   "outputs": [],
   "source": [
    "import numpy as np\n",
    "class PLA(object):\n",
    "  \n",
    "    #初始化学习率及迭代次数\n",
    "    def __init__(self, eta=0.01, n_iter=10):\n",
    "        self.eta = eta\n",
    "        self.n_iter = n_iter\n",
    "    #初始化权重并添加增广向量,添加w_[0]\n",
    "    def _initialize_w(self,m):\n",
    "        self.w_=np.zeros(1+m)\n",
    "\n",
    "    #计算PLA输出\n",
    "    def net_input(self, X):\n",
    "        \n",
    "        return np.dot(X, self.w_[1:]) + self.w_[0]\n",
    "    #计算依靠PLA输出的分类结果\n",
    "    def predict(self, X):\n",
    "        \"\"\"Return class label after unit step\"\"\"\n",
    "        return np.where(self.net_input(X) >= 0.0, 1, -1)\n",
    "\n",
    "        \n",
    "    \n",
    "    #修正权值系数\n",
    "    def fit(self, X, y):\n",
    "\n",
    "        self._initialize_w(X.shape[1])\n",
    "        \n",
    "        self.errors_ = []#分类误差\n",
    "\n",
    "        for _ in range(self.n_iter):\n",
    "            errors = 0\n",
    "            for xi, target in zip(X, y):\n",
    "                if target*self.predict(xi)<0:\n",
    "                #update = (target - self.predict(xi))\n",
    "                    self.w_[1:] += self.eta*target * xi\n",
    "                    self.w_[0] += self.eta*target\n",
    "                    #errors+=update\n",
    "            #self.errors_.append(errors)\n",
    "        return self\n",
    "\n",
    "    \n",
    "\n",
    "    \n",
    "    \n",
    "        \n",
    "            \n",
    "            \n",
    "        \n",
    "        \n",
    "        "
   ]
  },
  {
   "cell_type": "code",
   "execution_count": 12,
   "metadata": {},
   "outputs": [
    {
     "data": {
      "text/plain": [
       "<__main__.PLA at 0x82acbe0>"
      ]
     },
     "execution_count": 12,
     "metadata": {},
     "output_type": "execute_result"
    }
   ],
   "source": [
    "import pandas as pd\n",
    "df=pd.read_csv('https://archive.ics.uci.edu/ml/machine-learning-databases/iris/iris.data',header=None)\n",
    "dfy=df.iloc[0:100,4].values\n",
    "X=df.iloc[0:100,[0,2]].values\n",
    "#print(X)\n",
    "y=np.where(dfy=='Iris-setosa',1,-1)\n",
    "ppn=PLA(eta=0.1,n_iter=10)\n",
    "ppn.fit(X,y)\n"
   ]
  }
 ],
 "metadata": {
  "kernelspec": {
   "display_name": "Python 3",
   "language": "python",
   "name": "python3"
  },
  "language_info": {
   "codemirror_mode": {
    "name": "ipython",
    "version": 3
   },
   "file_extension": ".py",
   "mimetype": "text/x-python",
   "name": "python",
   "nbconvert_exporter": "python",
   "pygments_lexer": "ipython3",
   "version": "3.7.0"
  }
 },
 "nbformat": 4,
 "nbformat_minor": 2
}
