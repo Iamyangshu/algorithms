{
 "cells": [
  {
   "cell_type": "code",
   "execution_count": 97,
   "metadata": {},
   "outputs": [
    {
     "name": "stdout",
     "output_type": "stream",
     "text": [
      "该样本是不是好瓜？ 是\n"
     ]
    }
   ],
   "source": [
    "import numpy as np\n",
    "\n",
    "#读取西瓜数据集\n",
    "df=pd.read_table(r'E:\\Repository\\algorithms\\xiguabayesclassify.txt',sep=',')\n",
    "feature=df.iloc[:,:-1]\n",
    "label=df.iloc[:,-1]\n",
    "\n",
    "#predict是预测数据\n",
    "predict=pd.read_table(r'E:\\Repository\\algorithms\\xiguabayesclassifytest.txt',sep=',')\n",
    "\n",
    "def naivebayes(feature,label,predict,n):\n",
    "    max_probability=0\n",
    "    #feature,label,predict,n是离散属性的个数\n",
    "    #类别个数\n",
    "    label_num=len(np.unique(label))\n",
    "    #不同类别对应的后验概率初始化\n",
    "    postterior=[1]*label_num\n",
    "    #获得类别标号及其对应索引\n",
    "    for label_index,label_value in enumerate(np.unique(label)):\n",
    "        #在某一label_index,类别C下其先验概率\n",
    "        P_C=len(label[label==label_value])/len(label)\n",
    "        #求类别C下离散属性的条件概率\n",
    "        for feature_index,feature_value in enumerate(predict.iloc[:,:n].values[0]):\n",
    "            #分组，分理出label_index对应的类别\n",
    "            temp=feature[label==label_value]\n",
    "            p_cond=len(temp.iloc[:,feature_index][temp.iloc[:,feature_index]==feature_value])/len(label[label==label_value])\n",
    "            postterior[label_index]*=p_cond\n",
    "        postterior[label_index]=postterior[label_index]*P_C\n",
    "        \n",
    "        #求类别C下连续属性的条件概率\n",
    "        #假设连续属性服从正态分布\n",
    "        for feature_index,feature_value in enumerate(predict.iloc[:,n:].values[0]):\n",
    "            #分组，分理出label_index对应的类别\n",
    "            temp=feature[label==label_value]\n",
    "            u=temp.iloc[:,feature_index+n].mean()\n",
    "            eta=temp.iloc[:,feature_index+n].std()\n",
    "            p_cond=(1/(np.sqrt(2*np.pi)*eta))*np.exp(-((feature_value-u)**2/(2*eta**2)))\n",
    "            postterior[label_index]=postterior[label_index]*p_cond\n",
    "        \n",
    "        \n",
    "        if postterior[label_index]>max_probability:\n",
    "            #找出最大后验概率对应的类别\n",
    "            \n",
    "            max_probability=postterior[label_index]\n",
    "            predict_label_name=label_value\n",
    "            \n",
    "\n",
    "                \n",
    "                \n",
    "            \n",
    "    return predict_label_name\n",
    "predict_value=naivebayes(feature,label,predict,6)\n",
    "print('该样本是不是好瓜？',predict_value)\n",
    "\n",
    "\n",
    "#与我第一次编朴素贝叶斯不同的是，这次是基于预测样本来寻找应该求的条件概率，而不是求出所以条件概率存入字典\n",
    "#另外，这一次没有用pandas进行类别分组，而是灵活运用了numpy的bool属性索引，来找出类别一样的属性数据\n",
    "#灵活运用了enumerate,将索引值和类别联系了起来\n",
    "#本例中犯的错是，试图在函数外定义一个变量，但却在函数内部修改了这个变量值，不可以，函数内变量一旦离开函数即被释放\n",
    "\n",
    "        \n",
    "            \n",
    "            \n",
    "            \n",
    "        \n",
    "        \n",
    "        \n",
    "\n",
    "        \n",
    "    "
   ]
  }
 ],
 "metadata": {
  "kernelspec": {
   "display_name": "Python 3",
   "language": "python",
   "name": "python3"
  },
  "language_info": {
   "codemirror_mode": {
    "name": "ipython",
    "version": 3
   },
   "file_extension": ".py",
   "mimetype": "text/x-python",
   "name": "python",
   "nbconvert_exporter": "python",
   "pygments_lexer": "ipython3",
   "version": "3.7.0"
  }
 },
 "nbformat": 4,
 "nbformat_minor": 2
}
