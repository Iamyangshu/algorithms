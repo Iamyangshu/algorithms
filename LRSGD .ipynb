{
 "cells": [
  {
   "cell_type": "code",
   "execution_count": 3,
   "metadata": {},
   "outputs": [],
   "source": [
    "import numpy as np\n",
    "class LR(object):\n",
    "    def __init__(self,eta=0.01,n_iter=20):\n",
    "        self.eta=eta\n",
    "        self.n_iter=n_iter\n",
    "        \n",
    "    def _initialize_w(self,m):\n",
    "        self.w=np.zeros(m+1)\n",
    "        \n",
    "    def _net_input(self,xi):\n",
    "        z=xi.dot(self.w[1:])+self.w[0]\n",
    "        return  1/(1+np.exp(-z))\n",
    "    def predict(self,xi):\n",
    "        return np.where(self._net_input(xi)>=0.5,1,-1)\n",
    "    \n",
    "    def _shuffle(self,X,y):\n",
    "    #打乱原来X的顺序，便于随机选取样本进行梯度下降\n",
    "        r=np.random.permutation(len(y))\n",
    "        return X[r],y[r]\n",
    "    \n",
    "    def _update_w(self,xi,yi):\n",
    "    #更新权值，一次根据一个样本更新\n",
    "        output=self.net_input(xi)\n",
    "        error=(yi-output)\n",
    "        self.w[1:]+=self.eta*xi.dot(error)\n",
    "        self.w[0]+=self.eta*error\n",
    "        #cost=0.5*error**2\n",
    "        return cost\n",
    "    \n",
    "    def fit(self,X,y):\n",
    "        self._initialize_w(X.shape[1])\n",
    "        for _ in range(self.n_iter):\n",
    "            \n",
    "            #cost=[]\n",
    "            X,y=self._shuffle(X,y)\n",
    "            for xi,yi in zip(X,y):\n",
    "                output=self._net_input(xi)\n",
    "                error=(yi-output)\n",
    "                self.w[1:]+=self.eta*xi.dot(error)\n",
    "                self.w[0]+=self.eta*error\n",
    "        return self\n",
    "    "
   ]
  },
  {
   "cell_type": "code",
   "execution_count": 21,
   "metadata": {},
   "outputs": [
    {
     "data": {
      "text/plain": [
       "array([10.56363338,  1.13200212, -1.40446502])"
      ]
     },
     "execution_count": 21,
     "metadata": {},
     "output_type": "execute_result"
    }
   ],
   "source": [
    "import pandas as pd\n",
    "df=pd.read_table(r'E:\\Repository\\algorithms\\LRdata.txt',header=None)\n",
    "X=df.iloc[0:100,[0,1]].values\n",
    "y=df.iloc[0:100,2].values\n",
    "\n",
    "lgr=LR(eta=0.1,n_iter=30)\n",
    "lgr.fit(X,y)\n",
    "lgr.w"
   ]
  },
  {
   "cell_type": "code",
   "execution_count": 25,
   "metadata": {},
   "outputs": [
    {
     "data": {
      "image/png": "[encoded data removed]",
      "text/plain": [
       "<Figure size 432x288 with 1 Axes>"
      ]
     },
     "metadata": {
      "needs_background": "light"
     },
     "output_type": "display_data"
    }
   ],
   "source": [
    "\n",
    "import matplotlib.pyplot as plt\n",
    "\n",
    "from matplotlib.colors import ListedColormap\n",
    "from matplotlib.font_manager import FontProperties\n",
    "font=FontProperties(fname=r'C:\\Windows\\Fonts\\simkai.ttf',size=14)\n",
    "def plot_decision_region(X,y,classifer,resolution=0.02):\n",
    "   \n",
    "    \n",
    "    \n",
    "    #找出各个样本的最值，分界面由权重决定，对x1,x2进行放缩并不会影响分界面，但可以使分界面更美观\n",
    "    x1_min,x2_min=X[:,0].min()-1,X[:,1].min()-1\n",
    "    x1_max,x2_max=X[:,0].max()+1,X[:,1].max()+1\n",
    "    #print(x1_min)\n",
    "    #将向量矩阵变为坐标矩阵\n",
    "    xx1,xx2=np.meshgrid(np.arange(x1_min,x1_max,resolution),np.arange(x2_min,x2_max,resolution))\n",
    "    #print(xx1)\n",
    "    #Z是分界决策面所对应的分类决策，+1，-1将其对应于 contourf的等高线绘制高度，进而进行填充，画出分界区域\n",
    "    Z=classifer.predict(np.array([xx1.ravel(),xx2.ravel()]).T)\n",
    "    #高度需要与contourf(x,y,z)的维度相对应\n",
    "    Z=Z.reshape(xx1.shape)\n",
    "    #print(xx1.shape)\n",
    "    #print(Z)\n",
    "    \n",
    "    colors = ('blue', 'red', 'lightgreen', 'gray', 'cyan')\n",
    "    #colors[:len(np.unique(y))]对应于不同类所要选择的颜色，二分类问题会在red,blue内进行选择\n",
    "    cmap = ListedColormap(colors[:len(np.unique(y))])\n",
    "    #其中的alpha参数设置颜色填充的透明度\n",
    "    plt.contourf(xx1, xx2, Z, alpha=0.5, cmap=cmap)\n",
    "    #plt.contour(xx1, xx2, Z, alpha=0.5, cmap=cmap)\n",
    "    #设定所画图形界面\n",
    "    plt.xlim(xx1.min(), xx1.max())\n",
    "    plt.ylim(xx2.min(), xx2.max())\n",
    "    \n",
    "    \n",
    "    markers = ('x', 'o', 's', '^', 'v')\n",
    "    \n",
    "    for idx, cl in enumerate(np.unique(y)):\n",
    "        #用y==1和y==-1来做索引\n",
    "        plt.scatter(x=X[y == cl, 0], y=X[y == cl, 1],\n",
    "        alpha=0.8, c=cmap(idx),\n",
    "        marker=markers[idx], label=cl)\n",
    "\n",
    "    \n",
    "plot_decision_region(X, y, classifer=lgr)\n",
    "plt.xlabel('feature1',fontproperties=font)\n",
    "plt.ylabel('feature2',fontproperties=font)\n",
    "plt.legend(loc='upper right')\n",
    "plt.title('Logistic Regression Classification ',fontproperties=font)\n",
    "#plt.savefig(r'C:\\Users\\Administrator\\Desktop\\工作报告\\LRsample.png',dpi=600)\n",
    "plt.savefig(r'C:\\Users\\Administrator\\Desktop\\工作报告\\LRclassificationSGD.png',dpi=600)"
   ]
  }
 ],
 "metadata": {
  "kernelspec": {
   "display_name": "Python 3",
   "language": "python",
   "name": "python3"
  },
  "language_info": {
   "codemirror_mode": {
    "name": "ipython",
    "version": 3
   },
   "file_extension": ".py",
   "mimetype": "text/x-python",
   "name": "python",
   "nbconvert_exporter": "python",
   "pygments_lexer": "ipython3",
   "version": "3.7.0"
  }
 },
 "nbformat": 4,
 "nbformat_minor": 2
}
